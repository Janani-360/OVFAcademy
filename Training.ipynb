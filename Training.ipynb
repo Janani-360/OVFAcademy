{
  "nbformat": 4,
  "nbformat_minor": 0,
  "metadata": {
    "colab": {
      "name": "Training.ipynb",
      "provenance": [],
      "authorship_tag": "ABX9TyNZbAIc9gVEUBB8nUgVtdNL",
      "include_colab_link": true
    },
    "kernelspec": {
      "name": "python3",
      "display_name": "Python 3"
    },
    "language_info": {
      "name": "python"
    }
  },
  "cells": [
    {
      "cell_type": "markdown",
      "metadata": {
        "id": "view-in-github",
        "colab_type": "text"
      },
      "source": [
        "<a href=\"https://colab.research.google.com/github/Janani-360/OVFAcademy/blob/main/Training.ipynb\" target=\"_parent\"><img src=\"https://colab.research.google.com/assets/colab-badge.svg\" alt=\"Open In Colab\"/></a>"
      ]
    },
    {
      "cell_type": "code",
      "execution_count": 7,
      "metadata": {
        "id": "-CxRpMqi6hlk"
      },
      "outputs": [],
      "source": [
        "import numpy as np\n",
        "import pandas as pd\n",
        "\n",
        "import math \n",
        "import collections"
      ]
    },
    {
      "cell_type": "code",
      "source": [
        "fruits = [\"apple\",\"orange\",\"banana\",\"kiwi\",\"mango\"]\n",
        "\n",
        "for i in fruits:\n",
        "  \n",
        "  print(\"Index of element \" +i, \"is\", fruits.index(i))\n",
        "  print(\"Length of element \"+i, \"is\", len(i))\n",
        "  for j in i:\n",
        "    print(\"Each letter \",j)\n"
      ],
      "metadata": {
        "id": "F_PuWDVW7nSe"
      },
      "execution_count": null,
      "outputs": []
    },
    {
      "cell_type": "code",
      "source": [
        "fruits.append(\"xacuti\")\n",
        "fruits.append(\"123\")\n",
        "fruits.append(\"345\")\n",
        "\n",
        "fruits.sort()\n",
        "\n",
        "fruits"
      ],
      "metadata": {
        "colab": {
          "base_uri": "https://localhost:8080/"
        },
        "id": "SlcrL0qOAxRf",
        "outputId": "63efb5e2-dbc4-4204-a823-e2984259732c"
      },
      "execution_count": null,
      "outputs": [
        {
          "output_type": "execute_result",
          "data": {
            "text/plain": [
              "['123', '345', 'apple', 'banana', 'kiwi', 'mango', 'orange', 'xacuti']"
            ]
          },
          "metadata": {},
          "execution_count": 20
        }
      ]
    },
    {
      "cell_type": "code",
      "source": [
        "tuple = ('one','two','three')\n",
        "for i, fruit in enumerate(fruits):\n",
        "  print(i,fruit)\n",
        "\n",
        "\n"
      ],
      "metadata": {
        "id": "yELu0dpEwsE1",
        "outputId": "76372601-137a-4875-ed6b-43aa600ece3c",
        "colab": {
          "base_uri": "https://localhost:8080/"
        }
      },
      "execution_count": 5,
      "outputs": [
        {
          "output_type": "stream",
          "name": "stdout",
          "text": [
            "0 apple\n",
            "1 orange\n",
            "2 banana\n",
            "3 kiwi\n",
            "4 mango\n",
            "one two three\n"
          ]
        }
      ]
    },
    {
      "cell_type": "code",
      "source": [
        "def tuple_func(a,b,c):\n",
        "  print(a,b,c)\n",
        "\n",
        "tuple_func(*tuple)"
      ],
      "metadata": {
        "id": "Vl-1x7FLyGhQ",
        "outputId": "ab177622-3979-4ab9-f27b-c6d673f8c4ae",
        "colab": {
          "base_uri": "https://localhost:8080/"
        }
      },
      "execution_count": 6,
      "outputs": [
        {
          "output_type": "stream",
          "name": "stdout",
          "text": [
            "one two three\n"
          ]
        }
      ]
    },
    {
      "cell_type": "code",
      "source": [
        "dict_country_city = {'US' : 'Washington, DC', 'France' : 'Paris','Italy' : 'Rome'}\n",
        "\n",
        "\n",
        "dict_country_city['Italy']\n",
        "dict_country_city\n",
        "dict_country_city['Spain'] = 'Madrid'\n",
        "dict_country_city\n",
        "'Germany' in dict_country_city, 'Italy' in dict_country_city\n",
        "more = {'Germany':'Berlin'}\n",
        "dict_country_city.update(more)\n",
        "dict_country_city\n",
        "del dict_country_city['US']\n",
        "dict_country_city"
      ],
      "metadata": {
        "id": "SkJNaW3HySy7",
        "outputId": "9e9359ef-c4e4-45ec-b240-41e936283ddc",
        "colab": {
          "base_uri": "https://localhost:8080/"
        }
      },
      "execution_count": 16,
      "outputs": [
        {
          "output_type": "execute_result",
          "data": {
            "text/plain": [
              "{'France': 'Paris', 'Germany': 'Berlin', 'Italy': 'Rome', 'Spain': 'Madrid'}"
            ]
          },
          "metadata": {},
          "execution_count": 16
        }
      ]
    },
    {
      "cell_type": "code",
      "source": [
        ""
      ],
      "metadata": {
        "id": "1a3IujTc0TLi"
      },
      "execution_count": null,
      "outputs": []
    }
  ]
}