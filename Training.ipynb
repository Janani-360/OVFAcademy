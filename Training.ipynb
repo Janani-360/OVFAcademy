{
  "nbformat": 4,
  "nbformat_minor": 0,
  "metadata": {
    "colab": {
      "name": "Training.ipynb",
      "provenance": [],
      "authorship_tag": "ABX9TyPLZRHW+OIg/H35oHrCb1rX",
      "include_colab_link": true
    },
    "kernelspec": {
      "name": "python3",
      "display_name": "Python 3"
    },
    "language_info": {
      "name": "python"
    }
  },
  "cells": [
    {
      "cell_type": "markdown",
      "metadata": {
        "id": "view-in-github",
        "colab_type": "text"
      },
      "source": [
        "<a href=\"https://colab.research.google.com/github/Janani-360/OVFAcademy/blob/main/Training.ipynb\" target=\"_parent\"><img src=\"https://colab.research.google.com/assets/colab-badge.svg\" alt=\"Open In Colab\"/></a>"
      ]
    },
    {
      "cell_type": "code",
      "execution_count": null,
      "metadata": {
        "id": "-CxRpMqi6hlk"
      },
      "outputs": [],
      "source": [
        "import numpy as np\n",
        "import pandas as pd\n",
        "\n",
        "import math \n",
        "import collections"
      ]
    },
    {
      "cell_type": "code",
      "source": [
        "fruits = [\"apple\",\"orange\",\"banana\",\"kiwi\",\"mango\"]\n",
        "\n",
        "for i in fruits:\n",
        "  \n",
        "  print(\"Index of element \" +i, \"is\", fruits.index(i))\n",
        "  print(\"Length of element \"+i, \"is\", len(i))\n",
        "  for j in i:\n",
        "    print(\"Each letter \",j)\n"
      ],
      "metadata": {
        "colab": {
          "base_uri": "https://localhost:8080/"
        },
        "id": "F_PuWDVW7nSe",
        "outputId": "46157c66-948d-4a41-a905-51fcb177798a"
      },
      "execution_count": 10,
      "outputs": [
        {
          "output_type": "stream",
          "name": "stdout",
          "text": [
            "Index of element apple is 0\n",
            "Length of element apple is 5\n",
            "Each letter  a\n",
            "Each letter  p\n",
            "Each letter  p\n",
            "Each letter  l\n",
            "Each letter  e\n",
            "Index of element orange is 1\n",
            "Length of element orange is 6\n",
            "Each letter  o\n",
            "Each letter  r\n",
            "Each letter  a\n",
            "Each letter  n\n",
            "Each letter  g\n",
            "Each letter  e\n",
            "Index of element banana is 2\n",
            "Length of element banana is 6\n",
            "Each letter  b\n",
            "Each letter  a\n",
            "Each letter  n\n",
            "Each letter  a\n",
            "Each letter  n\n",
            "Each letter  a\n",
            "Index of element kiwi is 3\n",
            "Length of element kiwi is 4\n",
            "Each letter  k\n",
            "Each letter  i\n",
            "Each letter  w\n",
            "Each letter  i\n",
            "Index of element mango is 4\n",
            "Length of element mango is 5\n",
            "Each letter  m\n",
            "Each letter  a\n",
            "Each letter  n\n",
            "Each letter  g\n",
            "Each letter  o\n"
          ]
        }
      ]
    }
  ]
}