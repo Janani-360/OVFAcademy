{
  "nbformat": 4,
  "nbformat_minor": 0,
  "metadata": {
    "colab": {
      "name": "Training.ipynb",
      "provenance": [],
      "authorship_tag": "ABX9TyMiHm3Df9V2HbJLPgoUDJXi",
      "include_colab_link": true
    },
    "kernelspec": {
      "name": "python3",
      "display_name": "Python 3"
    },
    "language_info": {
      "name": "python"
    }
  },
  "cells": [
    {
      "cell_type": "markdown",
      "metadata": {
        "id": "view-in-github",
        "colab_type": "text"
      },
      "source": [
        "<a href=\"https://colab.research.google.com/github/Janani-360/OVFAcademy/blob/main/Training.ipynb\" target=\"_parent\"><img src=\"https://colab.research.google.com/assets/colab-badge.svg\" alt=\"Open In Colab\"/></a>"
      ]
    },
    {
      "cell_type": "code",
      "execution_count": null,
      "metadata": {
        "id": "-CxRpMqi6hlk"
      },
      "outputs": [],
      "source": [
        "import numpy as np\n",
        "import pandas as pd\n",
        "\n",
        "import math \n",
        "import collections"
      ]
    },
    {
      "cell_type": "code",
      "source": [
        "fruits = [\"apple\",\"orange\",\"banana\",\"kiwi\",\"mango\"]\n",
        "\n",
        "for i in fruits:\n",
        "  \n",
        "  print(\"Index of element \" +i, \"is\", fruits.index(i))\n",
        "  print(\"Length of element \"+i, \"is\", len(i))\n",
        "  for j in i:\n",
        "    print(\"Each letter \",j)\n"
      ],
      "metadata": {
        "id": "F_PuWDVW7nSe"
      },
      "execution_count": null,
      "outputs": []
    },
    {
      "cell_type": "code",
      "source": [
        "fruits.append(\"xacuti\")\n",
        "fruits.append(\"123\")\n",
        "fruits.append(\"345\")\n",
        "\n",
        "fruits.sort()\n",
        "\n",
        "fruits"
      ],
      "metadata": {
        "colab": {
          "base_uri": "https://localhost:8080/"
        },
        "id": "SlcrL0qOAxRf",
        "outputId": "63efb5e2-dbc4-4204-a823-e2984259732c"
      },
      "execution_count": null,
      "outputs": [
        {
          "output_type": "execute_result",
          "data": {
            "text/plain": [
              "['123', '345', 'apple', 'banana', 'kiwi', 'mango', 'orange', 'xacuti']"
            ]
          },
          "metadata": {},
          "execution_count": 20
        }
      ]
    },
    {
      "cell_type": "code",
      "source": [
        "tuple = ('one','two','three')\n",
        "for i, fruit in enumerate(fruits):\n",
        "  print(i,fruit)\n",
        "\n",
        "\n"
      ],
      "metadata": {
        "colab": {
          "base_uri": "https://localhost:8080/"
        },
        "id": "yELu0dpEwsE1",
        "outputId": "76372601-137a-4875-ed6b-43aa600ece3c"
      },
      "execution_count": null,
      "outputs": [
        {
          "output_type": "stream",
          "name": "stdout",
          "text": [
            "0 apple\n",
            "1 orange\n",
            "2 banana\n",
            "3 kiwi\n",
            "4 mango\n",
            "one two three\n"
          ]
        }
      ]
    },
    {
      "cell_type": "code",
      "source": [
        "def tuple_func(a,b,c):\n",
        "  print(a,b,c)\n",
        "\n",
        "tuple_func(*tuple)"
      ],
      "metadata": {
        "colab": {
          "base_uri": "https://localhost:8080/"
        },
        "id": "Vl-1x7FLyGhQ",
        "outputId": "ab177622-3979-4ab9-f27b-c6d673f8c4ae"
      },
      "execution_count": null,
      "outputs": [
        {
          "output_type": "stream",
          "name": "stdout",
          "text": [
            "one two three\n"
          ]
        }
      ]
    },
    {
      "cell_type": "code",
      "source": [
        "dict_country_city = {'US' : 'Washington, DC', 'France' : 'Paris','Italy' : 'Rome'}\n",
        "\n",
        "\n",
        "dict_country_city['Italy']\n",
        "dict_country_city\n",
        "dict_country_city['Spain'] = 'Madrid'\n",
        "dict_country_city\n",
        "'Germany' in dict_country_city, 'Italy' in dict_country_city\n",
        "more = {'Germany':'Berlin'}\n",
        "dict_country_city.update(more)\n",
        "dict_country_city\n",
        "del dict_country_city['US']\n",
        "dict_country_city"
      ],
      "metadata": {
        "colab": {
          "base_uri": "https://localhost:8080/"
        },
        "id": "SkJNaW3HySy7",
        "outputId": "9e9359ef-c4e4-45ec-b240-41e936283ddc"
      },
      "execution_count": null,
      "outputs": [
        {
          "output_type": "execute_result",
          "data": {
            "text/plain": [
              "{'France': 'Paris', 'Germany': 'Berlin', 'Italy': 'Rome', 'Spain': 'Madrid'}"
            ]
          },
          "metadata": {},
          "execution_count": 16
        }
      ]
    },
    {
      "cell_type": "code",
      "source": [
        "birthdays = {(2,15) : \"ABC\", (4,24) : \"DEF\"}\n",
        "print(birthdays)\n",
        "hash('Italy')\n",
        "hash((2,15))\n",
        "len({})\n"
      ],
      "metadata": {
        "colab": {
          "base_uri": "https://localhost:8080/"
        },
        "id": "1a3IujTc0TLi",
        "outputId": "69751727-7196-4724-d529-fd8cf74f43db"
      },
      "execution_count": null,
      "outputs": [
        {
          "output_type": "stream",
          "name": "stdout",
          "text": [
            "{(2, 15): 'ABC', (4, 24): 'DEF'}\n"
          ]
        },
        {
          "output_type": "execute_result",
          "data": {
            "text/plain": [
              "0"
            ]
          },
          "metadata": {},
          "execution_count": 21
        }
      ]
    },
    {
      "cell_type": "code",
      "source": [
        "for key in dict_country_city:\n",
        "  print(key,dict_country_city[key])"
      ],
      "metadata": {
        "id": "KRuF013S1FhL",
        "outputId": "37328a01-4844-4944-a996-9bec2742011b",
        "colab": {
          "base_uri": "https://localhost:8080/"
        }
      },
      "execution_count": null,
      "outputs": [
        {
          "output_type": "stream",
          "name": "stdout",
          "text": [
            "France Paris\n",
            "Italy Rome\n",
            "Spain Madrid\n",
            "Germany Berlin\n"
          ]
        }
      ]
    },
    {
      "cell_type": "code",
      "source": [
        "for key in dict_country_city.keys():\n",
        "  print(key,dict_country_city[key])"
      ],
      "metadata": {
        "id": "Yic0USK11TmC",
        "outputId": "82aa1557-3adc-40b0-9461-7fc98cbabf3e",
        "colab": {
          "base_uri": "https://localhost:8080/"
        }
      },
      "execution_count": null,
      "outputs": [
        {
          "output_type": "stream",
          "name": "stdout",
          "text": [
            "France Paris\n",
            "Italy Rome\n",
            "Spain Madrid\n",
            "Germany Berlin\n"
          ]
        }
      ]
    },
    {
      "cell_type": "code",
      "source": [
        "#List comprehensions\n",
        "# comprehensions largely replace map and filter built in functions, which are important and so called functional languages\n",
        "\n",
        "squares = []\n",
        "for i in range(1,11):\n",
        "  squares.append(i**2)\n",
        "squares"
      ],
      "metadata": {
        "id": "jx7Lqnm_79nO",
        "outputId": "bd5a060e-368f-4045-f41f-fcac5f4194b6",
        "colab": {
          "base_uri": "https://localhost:8080/"
        }
      },
      "execution_count": null,
      "outputs": [
        {
          "output_type": "execute_result",
          "data": {
            "text/plain": [
              "[1, 4, 9, 16, 25, 36, 49, 64, 81, 100]"
            ]
          },
          "metadata": {},
          "execution_count": 2
        }
      ]
    },
    {
      "cell_type": "code",
      "source": [
        "squares = [i**2 for i in range(1,11)]\n",
        "squares"
      ],
      "metadata": {
        "id": "HkDuiuWb8g0X",
        "outputId": "34a2be8d-aa56-4c21-b7e6-bf931d36fe93",
        "colab": {
          "base_uri": "https://localhost:8080/"
        }
      },
      "execution_count": null,
      "outputs": [
        {
          "output_type": "execute_result",
          "data": {
            "text/plain": [
              "[1, 4, 9, 16, 25, 36, 49, 64, 81, 100]"
            ]
          },
          "metadata": {},
          "execution_count": 4
        }
      ]
    },
    {
      "cell_type": "code",
      "source": [
        "squares_by_four = [i**2 for i in range(1,11) if i**2 % 4 == 0]\n",
        "squares_by_four"
      ],
      "metadata": {
        "id": "uzOKo3af85Xs",
        "outputId": "e1d42672-590d-4740-d0ce-2ed5f6b16cda",
        "colab": {
          "base_uri": "https://localhost:8080/"
        }
      },
      "execution_count": null,
      "outputs": [
        {
          "output_type": "execute_result",
          "data": {
            "text/plain": [
              "[4, 16, 36, 64, 100]"
            ]
          },
          "metadata": {},
          "execution_count": 7
        }
      ]
    },
    {
      "cell_type": "code",
      "source": [
        "# Dictionary comprehension\n",
        "# key value pair\n",
        "squares_dict = {i: i**2 for i in range(1,11)}\n",
        "squares_dict"
      ],
      "metadata": {
        "id": "BysfJ_tj9znR",
        "outputId": "77320759-0289-4e8e-a9ef-bbffd166b16f",
        "colab": {
          "base_uri": "https://localhost:8080/"
        }
      },
      "execution_count": null,
      "outputs": [
        {
          "output_type": "execute_result",
          "data": {
            "text/plain": [
              "{1: 1, 2: 4, 3: 9, 4: 16, 5: 25, 6: 36, 7: 49, 8: 64, 9: 81, 10: 100}"
            ]
          },
          "metadata": {},
          "execution_count": 8
        }
      ]
    },
    {
      "cell_type": "code",
      "source": [
        "capitals_by_country = {'US' : 'Washington, DC', 'France' : 'Paris','Italy' : 'Rome'}\n",
        "country_by_capital = {capital : cntry for cntry, capital in capitals_by_country.items()}\n",
        "country_by_capital"
      ],
      "metadata": {
        "id": "AIp32CfSYdhI",
        "outputId": "f0e23ee0-78e4-4f44-c0c4-55e5038b2d09",
        "colab": {
          "base_uri": "https://localhost:8080/"
        }
      },
      "execution_count": null,
      "outputs": [
        {
          "output_type": "execute_result",
          "data": {
            "text/plain": [
              "{'Paris': 'France', 'Rome': 'Italy', 'Washington, DC': 'US'}"
            ]
          },
          "metadata": {},
          "execution_count": 12
        }
      ]
    },
    {
      "cell_type": "code",
      "source": [
        "sum(i**2 for i in range(1,11))"
      ],
      "metadata": {
        "id": "zuVyr5e7aMbm",
        "outputId": "8206c0a0-e033-47fb-82b7-c1c72eaa539e",
        "colab": {
          "base_uri": "https://localhost:8080/"
        }
      },
      "execution_count": null,
      "outputs": [
        {
          "output_type": "execute_result",
          "data": {
            "text/plain": [
              "385"
            ]
          },
          "metadata": {},
          "execution_count": 13
        }
      ]
    },
    {
      "cell_type": "code",
      "source": [
        "counting = []\n",
        "for i in range(1,6):\n",
        "  for j in range(1,i+1):\n",
        "    counting.append(j)\n",
        "print(counting)\n",
        "\n",
        "counting_cmpr = [j for i in range(1,6) for j in range(1,i+1)]\n",
        "print(counting_cmpr)\n"
      ],
      "metadata": {
        "id": "B5SGPf0Pay0n",
        "outputId": "33439578-806b-42b8-d501-70a6525d6b26",
        "colab": {
          "base_uri": "https://localhost:8080/"
        }
      },
      "execution_count": null,
      "outputs": [
        {
          "output_type": "stream",
          "name": "stdout",
          "text": [
            "[1, 1, 2, 1, 2, 3, 1, 2, 3, 4, 1, 2, 3, 4, 5]\n",
            "[1, 1, 2, 1, 2, 3, 1, 2, 3, 4, 1, 2, 3, 4, 5]\n"
          ]
        }
      ]
    },
    {
      "cell_type": "code",
      "source": [
        "people = [(\"Michele\", \"Vallisneri\", \"July 15\"),\n",
        "          (\"Albert\", \"Einstein\", \"March 14\"),\n",
        "          (\"John\", \"Lennon\", \"October 9\"),\n",
        "          (\"Jocelyn\", \"Bell Burnell\", \"July 15\")]"
      ],
      "metadata": {
        "id": "BadVO3Lwd3KO"
      },
      "execution_count": null,
      "outputs": []
    },
    {
      "cell_type": "code",
      "source": [
        "people[0][1]\n",
        "[person for person in people if person[2] == \"July 15\"]\n",
        "persontype = collections.namedtuple('person', [\"FN\",\"LN\",\"BD\"])\n",
        "janani = persontype(\"Janani\",\"Chakkaradhari\",\"July 5\")\n"
      ],
      "metadata": {
        "id": "dD3owl7ld6KE",
        "outputId": "613d73a5-0d65-4331-d58c-8f97bb04b298",
        "colab": {
          "base_uri": "https://localhost:8080/"
        }
      },
      "execution_count": null,
      "outputs": [
        {
          "output_type": "execute_result",
          "data": {
            "text/plain": [
              "person(FN='Janani', LN='Chakkaradhari', BD='July 5')"
            ]
          },
          "metadata": {},
          "execution_count": 25
        }
      ]
    },
    {
      "cell_type": "code",
      "source": [
        "persontype(*people[0])\n",
        "namedpeople = [persontype(*person) for person in people]\n",
        "[person for person in namedpeople if person.BD == \"July 15\"]"
      ],
      "metadata": {
        "id": "5vReVRzXoJq0",
        "outputId": "98869f82-4ccf-4e25-bdb0-47e7fdcf8402",
        "colab": {
          "base_uri": "https://localhost:8080/"
        }
      },
      "execution_count": null,
      "outputs": [
        {
          "output_type": "execute_result",
          "data": {
            "text/plain": [
              "[person(FN='Michele', LN='Vallisneri', BD='July 15'),\n",
              " person(FN='Jocelyn', LN='Bell Burnell', BD='July 15')]"
            ]
          },
          "metadata": {},
          "execution_count": 31
        }
      ]
    },
    {
      "cell_type": "code",
      "source": [
        "# !pip install dataclasses\n",
        "from dataclasses import dataclass"
      ],
      "metadata": {
        "id": "gqqXWjdRpPvG"
      },
      "execution_count": null,
      "outputs": []
    },
    {
      "cell_type": "code",
      "source": [
        "sorted(\"elvis\") == sorted(\"sings\")\n",
        "'-'.join(sorted(\"aaron\")) #collate\n",
        "''.join(sorted(\"aaron\"))"
      ],
      "metadata": {
        "colab": {
          "base_uri": "https://localhost:8080/",
          "height": 35
        },
        "id": "rxpzJTekk9xc",
        "outputId": "e801f920-a26e-4710-f314-91ef91d16ba1"
      },
      "execution_count": 5,
      "outputs": [
        {
          "output_type": "execute_result",
          "data": {
            "text/plain": [
              "'aanor'"
            ],
            "application/vnd.google.colaboratory.intrinsic+json": {
              "type": "string"
            }
          },
          "metadata": {},
          "execution_count": 5
        }
      ]
    },
    {
      "cell_type": "code",
      "source": [
        "words = [\"elvis\",\"levis\", \"test\",\"estt\", \"aaron\"]\n",
        "def signature(word):\n",
        "  return ''.join(sorted(word))\n",
        "\n",
        "def find_anagram(myword):\n",
        "  '''\n",
        "  Function in order to find anagrams from the list of words\n",
        "  paramters:\n",
        "  myword: myword represents a word for which we need to find anagrams\n",
        "  '''\n",
        "  \n",
        "  mysign = signature(myword)\n",
        "  for w in words:\n",
        "    if mysign == signature(w):\n",
        "      print(w)\n",
        "   \n",
        "find_anagram(\"lives\")\n",
        "%time find_anagram(\"lives\")\n",
        "\n",
        "print(\"-------------\")\n",
        "\n",
        "def find_anagram_cmp(myword):\n",
        "  return [ w for w in words if signature(myword) == signature(w)]\n",
        "\n",
        "find_anagram_cmp(\"lives\")\n",
        "%time find_anagram_cmp(\"lives\")\n"
      ],
      "metadata": {
        "colab": {
          "base_uri": "https://localhost:8080/"
        },
        "id": "yDXMc4EYlgcs",
        "outputId": "8c98436a-b4b9-4698-bd60-11158d850b78"
      },
      "execution_count": 18,
      "outputs": [
        {
          "output_type": "stream",
          "name": "stdout",
          "text": [
            "elvis\n",
            "levis\n",
            "elvis\n",
            "levis\n",
            "CPU times: user 590 µs, sys: 0 ns, total: 590 µs\n",
            "Wall time: 596 µs\n",
            "-------------\n",
            "CPU times: user 12 µs, sys: 0 ns, total: 12 µs\n",
            "Wall time: 15 µs\n"
          ]
        },
        {
          "output_type": "execute_result",
          "data": {
            "text/plain": [
              "['elvis', 'levis']"
            ]
          },
          "metadata": {},
          "execution_count": 18
        }
      ]
    }
  ]
}